{
 "cells": [
  {
   "cell_type": "code",
   "execution_count": 159,
   "metadata": {},
   "outputs": [],
   "source": [
    "def process_document(project_id: str, location: str, file_path: str, processor_id: str, mime_type: str):\n",
    "    from google.cloud import documentai_v1beta3 as documentai\n",
    "\n",
    "    # Use the built-in Invoice Parser processor\n",
    "\n",
    "    client = documentai.DocumentProcessorServiceClient()\n",
    "\n",
    "    # The full resource name of the processor\n",
    "    name = f\"projects/{project_id}/locations/{location}/processors/{processor_id}\"\n",
    "\n",
    "    with open(file_path, \"rb\") as image:\n",
    "        image_content = image.read()\n",
    "\n",
    "    document = {\"mime_type\": mime_type, \"content\": image_content}\n",
    "\n",
    "    request = {\"name\": name, \"document\": document}\n",
    "\n",
    "    result = client.process_document(request=request)\n",
    "\n",
    "    document = result.document\n",
    "    print(\"Document processing complete.\")\n",
    "    \n",
    "    # Extract predicted entities\n",
    "    predicted_fields = {}\n",
    "    i = 1\n",
    "    for entity in document.entities:\n",
    "        field_name = entity.type_ \n",
    "\n",
    "        if field_name == 'line_item':\n",
    "            field_name += f\"_{i}\"\n",
    "            i += 1\n",
    "\n",
    "        field_value = entity.mention_text\n",
    "        predicted_fields[field_name] = field_value\n",
    "\n",
    "\n",
    "    return predicted_fields\n",
    "\n",
    "def get_text(anchor, document):\n",
    "    \"\"\"\n",
    "    Function to locate a layout token given its layout anchor.\n",
    "    \"\"\"\n",
    "    response = ''\n",
    "    for segment in anchor.segments:\n",
    "        start_index = segment.start_index\n",
    "        end_index = segment.end_index\n",
    "        response += document.text[start_index:end_index]\n",
    "    return response.strip()"
   ]
  },
  {
   "cell_type": "code",
   "execution_count": 160,
   "metadata": {},
   "outputs": [],
   "source": [
    "keys = get_keys()"
   ]
  },
  {
   "cell_type": "code",
   "execution_count": 161,
   "metadata": {},
   "outputs": [
    {
     "name": "stdout",
     "output_type": "stream",
     "text": [
      "Document processing complete.\n"
     ]
    }
   ],
   "source": [
    "# Call the function\n",
    "predicted_fields= process_document(project_id=keys['project_id'], location=\"us\", processor_id=keys['processor_id'], file_path=\"recibo_test.png\", mime_type=\"image/png\")\n"
   ]
  },
  {
   "cell_type": "code",
   "execution_count": 162,
   "metadata": {},
   "outputs": [
    {
     "data": {
      "text/plain": [
       "{'due_date': '12 ABR 22',\n",
       " 'invoice_date': '28 FEB 22 - 31 MAR 22',\n",
       " 'total_amount': '1,821,864',\n",
       " 'invoice_id': '999850102730',\n",
       " 'supplier_registration': 'GDMTH',\n",
       " 'invoice_type': '',\n",
       " 'supplier_address': 'ANASTASIO BUSTAMANTE SN\\nNTE Y ID DD10E09V ELSTER Y ID DD10E09V ELSTER\\nCENTRO SAN NICOLAS\\nSAN NICOLAS DE LOS G, N.L.',\n",
       " 'line_item_1': 'kW punta 1,361',\n",
       " 'line_item_2': 'kW intermedia 1,615',\n",
       " 'line_item_3': 'kWh punta 94,590',\n",
       " 'line_item_4': 'kWh intermedia 423,442',\n",
       " 'line_item_5': 'kW base 1,230',\n",
       " 'line_item_6': 'kWh base 163,738',\n",
       " 'line_item_7': 'CARGA CONECTADA KW 3100 DEMANDA CONTRATADA KW 2991',\n",
       " 'line_item_8': 'kWMax'}"
      ]
     },
     "execution_count": 162,
     "metadata": {},
     "output_type": "execute_result"
    }
   ],
   "source": [
    "predicted_fields"
   ]
  },
  {
   "cell_type": "code",
   "execution_count": null,
   "metadata": {},
   "outputs": [],
   "source": []
  }
 ],
 "metadata": {
  "kernelspec": {
   "display_name": "saturnia-recibos",
   "language": "python",
   "name": "python3"
  },
  "language_info": {
   "codemirror_mode": {
    "name": "ipython",
    "version": 3
   },
   "file_extension": ".py",
   "mimetype": "text/x-python",
   "name": "python",
   "nbconvert_exporter": "python",
   "pygments_lexer": "ipython3",
   "version": "3.8.10"
  },
  "orig_nbformat": 4,
  "vscode": {
   "interpreter": {
    "hash": "010d91b2e350a9a471e5f1f31c37805eeca87de9fbe589d9d42809bf3864606e"
   }
  }
 },
 "nbformat": 4,
 "nbformat_minor": 2
}
